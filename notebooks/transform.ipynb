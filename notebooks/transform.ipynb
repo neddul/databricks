{
 "cells": [
  {
   "cell_type": "code",
   "execution_count": 0,
   "metadata": {
    "application/vnd.databricks.v1+cell": {
     "cellMetadata": {
      "byteLimit": 2048000,
      "rowLimit": 10000
     },
     "inputWidgets": {},
     "nuid": "8a0c44b0-e50b-49cc-80dc-d4db45d27618",
     "showTitle": false,
     "tableResultSettingsMap": {},
     "title": ""
    }
   },
   "outputs": [],
   "source": [
    "# Work inside the same database\n",
    "spark.sql(\"USE dbx_demo\")\n",
    "\n",
    "# Basic metrics\n",
    "metrics = spark.sql(\"\"\"\n",
    "SELECT\n",
    "  COUNT(*) AS trips,\n",
    "  AVG(trip_distance) AS avg_distance,\n",
    "  AVG(fare_amount)   AS avg_fare\n",
    "FROM nyc_taxi\n",
    "\"\"\")\n",
    "display(metrics)\n",
    "\n",
    "# COMMAND ----------\n",
    "# Top pickup zips by trips\n",
    "top_pickups = spark.sql(\"\"\"\n",
    "SELECT pickup_zip, COUNT(*) AS trips\n",
    "FROM nyc_taxi\n",
    "WHERE pickup_zip IS NOT NULL\n",
    "GROUP BY pickup_zip\n",
    "ORDER BY trips DESC\n",
    "LIMIT 10\n",
    "\"\"\")\n",
    "display(top_pickups)\n",
    "\n",
    "# COMMAND ----------\n",
    "# Top dropoff zips by trips\n",
    "top_dropoffs = spark.sql(\"\"\"\n",
    "SELECT dropoff_zip, COUNT(*) AS trips\n",
    "FROM nyc_taxi\n",
    "WHERE dropoff_zip IS NOT NULL\n",
    "GROUP BY dropoff_zip\n",
    "ORDER BY trips DESC\n",
    "LIMIT 10\n",
    "\"\"\")\n",
    "display(top_dropoffs)\n",
    "\n",
    "# COMMAND ----------\n",
    "# Create a reusable view with per-zip stats\n",
    "spark.sql(\"\"\"\n",
    "CREATE OR REPLACE VIEW vw_zip_stats AS\n",
    "SELECT\n",
    "  pickup_zip,\n",
    "  COUNT(*)                      AS trips,\n",
    "  AVG(fare_amount)              AS avg_fare,\n",
    "  AVG(trip_distance)            AS avg_distance\n",
    "FROM nyc_taxi\n",
    "WHERE pickup_zip IS NOT NULL\n",
    "GROUP BY pickup_zip\n",
    "\"\"\")\n",
    "\n",
    "from pyspark.sql import functions as F\n",
    "\n",
    "display(\n",
    "    spark.table(\"vw_zip_stats\")\n",
    "    .orderBy(F.col(\"trips\").desc())\n",
    "    .limit(10)\n",
    ")\n",
    "\n",
    "# COMMAND ----------\n",
    "# Optional: daily rollup table (handy for dashboards)\n",
    "spark.sql(\"\"\"\n",
    "CREATE OR REPLACE TABLE daily_basic_metrics AS\n",
    "SELECT\n",
    "  DATE(tpep_pickup_datetime)      AS pickup_date,\n",
    "  COUNT(*)                        AS trips,\n",
    "  AVG(trip_distance)              AS avg_distance,\n",
    "  AVG(fare_amount)                AS avg_fare\n",
    "FROM nyc_taxi\n",
    "GROUP BY DATE(tpep_pickup_datetime)\n",
    "ORDER BY pickup_date\n",
    "\"\"\")\n",
    "\n",
    "display(spark.table(\"daily_basic_metrics\").limit(20))\n"
   ]
  }
 ],
 "metadata": {
  "application/vnd.databricks.v1+notebook": {
   "computePreferences": null,
   "dashboards": [],
   "environmentMetadata": {
    "base_environment": "",
    "environment_version": "3"
   },
   "inputWidgetPreferences": null,
   "language": "python",
   "notebookMetadata": {
    "pythonIndentUnit": 4
   },
   "notebookName": "transform",
   "widgets": {}
  },
  "language_info": {
   "name": "python"
  }
 },
 "nbformat": 4,
 "nbformat_minor": 0
}
