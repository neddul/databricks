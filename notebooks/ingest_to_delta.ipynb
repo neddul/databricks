{
 "cells": [
  {
   "cell_type": "code",
   "execution_count": 0,
   "metadata": {
    "application/vnd.databricks.v1+cell": {
     "cellMetadata": {
      "byteLimit": 2048000,
      "rowLimit": 10000
     },
     "inputWidgets": {},
     "nuid": "bad0c8fa-98ef-4e3c-9455-b691d1e6b4c5",
     "showTitle": false,
     "tableResultSettingsMap": {},
     "title": ""
    }
   },
   "outputs": [],
   "source": [
    "from pyspark.sql import functions as F\n",
    "\n",
    "# Load sample Delta table\n",
    "df = spark.read.format(\"delta\").load(\n",
    "    \"dbfs:/databricks-datasets/nyctaxi-with-zipcodes/subsampled\"\n",
    ")\n",
    "\n",
    "clean = (\n",
    "    df.select(\n",
    "        \"tpep_pickup_datetime\",\n",
    "        \"tpep_dropoff_datetime\",\n",
    "        \"trip_distance\",\n",
    "        \"fare_amount\",\n",
    "        \"pickup_zip\",\n",
    "        \"dropoff_zip\",\n",
    "    )\n",
    "    .filter(\n",
    "        (F.col(\"fare_amount\") > 0) &\n",
    "        (F.col(\"trip_distance\") > 0)\n",
    "    )\n",
    ")\n",
    "\n",
    "# Write to a managed table (no path needed)\n",
    "\n",
    "# Create the database if it does not exist\n",
    "spark.sql(\"CREATE DATABASE IF NOT EXISTS dbx_demo\")\n",
    "\n",
    "# Overwrite the managed table directly\n",
    "clean.write.format(\"delta\").mode(\"overwrite\").saveAsTable(\"dbx_demo.nyc_taxi\")\n",
    "\n",
    "display(spark.table(\"dbx_demo.nyc_taxi\").limit(10))\n"
   ]
  }
 ],
 "metadata": {
  "application/vnd.databricks.v1+notebook": {
   "computePreferences": null,
   "dashboards": [],
   "environmentMetadata": {
    "base_environment": "",
    "environment_version": "3"
   },
   "inputWidgetPreferences": null,
   "language": "python",
   "notebookMetadata": {
    "pythonIndentUnit": 4
   },
   "notebookName": "ingest_to_delta",
   "widgets": {}
  },
  "language_info": {
   "name": "python"
  }
 },
 "nbformat": 4,
 "nbformat_minor": 0
}
